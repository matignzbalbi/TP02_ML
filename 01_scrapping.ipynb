{
 "cells": [
  {
   "cell_type": "code",
   "execution_count": 19,
   "id": "337215e8",
   "metadata": {},
   "outputs": [],
   "source": [
    "### Librerías \n",
    "\n",
    "import requests\n",
    "from bs4 import BeautifulSoup\n",
    "import pandas as pd"
   ]
  },
  {
   "cell_type": "code",
   "execution_count": 3,
   "id": "294a71d1",
   "metadata": {},
   "outputs": [],
   "source": [
    "url = \"https://jumafernandez.github.io/machine-learning-unlu/web-scraping/data/ppt1-example-01.html\"\n",
    "r = requests.get(url)"
   ]
  },
  {
   "cell_type": "code",
   "execution_count": 7,
   "id": "5c4c4a4f",
   "metadata": {},
   "outputs": [
    {
     "data": {
      "text/plain": [
       "'<!DOCTYPE html>\\n<html lang=\"es\">\\n<head>\\n<meta charset=\"UTF-8\">\\n<title>Información de Tiendas</title>\\n\\n<style>\\n.image-container {\\n  text-align: center;\\n}\\n</style>\\n\\n</head>\\n<body>\\n  <h1 align=\"center\" class=\"marca\">Información de Tiendas</h1>\\n  \\n  <p align=\"center\">A continuación se listan 15 tiendas que comienzan con la letra A:</p>\\n    \\n  <table border=\"1\" align=\"center\">\\n    <thead>\\n      <tr>\\n        <th class=\"marca\">Nombre</th>\\n        <th>Enlace</th>\\n      </tr>\\n    </thead>\\n    <tbody>\\n      <tr>\\n        <td class=\"marca\">Adidas</td>\\n        <td><a href=\"https://www.adidas.com.ar/\">https://www.adidas.com.ar/</a></td>\\n      </tr>\\n      <tr>\\n        <td class=\"marca\">Akiabara</td>\\n        <td><a href=\"https://akiabara.com/\">https://akiabara.com/</a></td>\\n      </tr>\\n      <tr>\\n        <td class=\"marca\">Al Mundo</td>\\n        <td><a href=\"https://almundo.com.ar/\">https://almundo.com.ar/</a></td>\\n      </tr>\\n      <tr>\\n        <td class=\"marca\">Alfabeta</td>\\n        <td><a href=\"https://www.alfabeta.net/home/\">https://www.alfabeta.net/home/</a></td>\\n      </tr>\\n      <tr>\\n        <td class=\"marca\">Almacen de Pizzas</td>\\n        <td><a href=\"https://go.waitry.net/order/2358/almacen-de-pizzas-unicenter/take-away\">https://go.waitry.net/order/2358/almacen-de-pizzas-unicenter/take-away</a></td>\\n      </tr>\\n      <tr>\\n        <td class=\"marca\">Aloise</td>\\n        <td><a href=\"https://catalogoaloise.com/\">https://catalogoaloise.com/</a></td>\\n      </tr>\\n      <tr>\\n        <td class=\"marca\">Amphora</td>\\n        <td><a href=\"https://www.amphora.com.ar/\">https://www.amphora.com.ar/</a></td>\\n      </tr>\\n      <tr>\\n        <td class=\"marca\">Anavana</td>\\n        <td><a href=\"https://www.anavana.com.ar/\">https://www.anavana.com.ar/</a></td>\\n      </tr>\\n      <tr>\\n        <td class=\"marca\">Anca & Co</td>\\n        <td><a href=\"https://www.ancayco.com.ar/\">https://www.ancayco.com.ar/</a></td>\\n      </tr>\\n      <tr>\\n        <td class=\"marca\">Aquí y Ahora Stand</td>\\n        <td><a href=\"https://www.aquiyahora.com.ar/\">https://www.aquiyahora.com.ar/</a></td>\\n      </tr>\\n      <tr>\\n        <td class=\"marca\">Arredo</td>\\n        <td><a href=\"https://www.arredo.com.ar/\">https://www.arredo.com.ar/</a></td>\\n      </tr>\\n      <tr>\\n        <td class=\"marca\">Artisan</td>\\n        <td><a href=\"https://artisanbuenosaires.com.ar/\">https://artisanbuenosaires.com.ar/</a></td>\\n      </tr>\\n      <tr>\\n        <td class=\"marca\">Atomik</td>\\n        <td><a href=\"https://atomik.com.ar/\">https://atomik.com.ar/</a></td>\\n      </tr>\\n      <tr>\\n        <td class=\"marca\">Atrápalo</td>\\n        <td><a href=\"https://www.atrapalo.com.ar/\">https://www.atrapalo.com.ar/</a></td>\\n      </tr>\\n      <tr>\\n        <td class=\"marca\">Ay Not Dead</td>\\n        <td><a href=\"https://aynotdead.com/\">https://aynotdead.com/</a></td>\\n      </tr>\\n    </tbody>\\n  </table>\\n\\n  <div class=\"image-container\">\\n    <img src=\"https://www.python.org/static/community_logos/python-logo-master-v3-TM.png\" alt=\"Logo de Python\">\\n  </div>\\n  \\n</body>\\n</html>\\n\\n'"
      ]
     },
     "execution_count": 7,
     "metadata": {},
     "output_type": "execute_result"
    }
   ],
   "source": [
    "## HTML\n",
    "f_html = r.text\n",
    "f_html"
   ]
  },
  {
   "cell_type": "code",
   "execution_count": 18,
   "id": "dc70a6c7",
   "metadata": {},
   "outputs": [
    {
     "data": {
      "text/plain": [
       "'Información de Tiendas'"
      ]
     },
     "execution_count": 18,
     "metadata": {},
     "output_type": "execute_result"
    }
   ],
   "source": [
    "## Header\n",
    "soup = BeautifulSoup(f_html, 'html.parser')\n",
    "\n",
    "header = soup.find(\"h1\")\n",
    "header.get_text() # type: ignore"
   ]
  },
  {
   "cell_type": "code",
   "execution_count": 28,
   "id": "244415a0",
   "metadata": {},
   "outputs": [],
   "source": [
    "thead = tabla.find(\"thead\") # type: ignore\n",
    "headers = [th.get_text(strip=True) for th in thead.find_all(\"th\")] # type: ignore\n",
    "\n",
    "tbody = tabla.find(\"tbody\") # type: ignore\n",
    "rows = []\n",
    "\n",
    "for tr in tbody.find_all(\"tr\"): # type: ignore\n",
    "    row = [td.get_text(strip=True) for td in tr.find_all(\"td\")]\n",
    "    rows.append(row)\n",
    "\n",
    "df = pd.DataFrame(rows, columns=headers)"
   ]
  },
  {
   "cell_type": "code",
   "execution_count": 35,
   "id": "8ea87fc9",
   "metadata": {},
   "outputs": [
    {
     "data": {
      "text/html": [
       "<div>\n",
       "<style scoped>\n",
       "    .dataframe tbody tr th:only-of-type {\n",
       "        vertical-align: middle;\n",
       "    }\n",
       "\n",
       "    .dataframe tbody tr th {\n",
       "        vertical-align: top;\n",
       "    }\n",
       "\n",
       "    .dataframe thead th {\n",
       "        text-align: right;\n",
       "    }\n",
       "</style>\n",
       "<table border=\"1\" class=\"dataframe\">\n",
       "  <thead>\n",
       "    <tr style=\"text-align: right;\">\n",
       "      <th></th>\n",
       "      <th>Marca</th>\n",
       "      <th>Enlace</th>\n",
       "    </tr>\n",
       "  </thead>\n",
       "  <tbody>\n",
       "    <tr>\n",
       "      <th>0</th>\n",
       "      <td>Adidas</td>\n",
       "      <td>https://www.adidas.com.ar/</td>\n",
       "    </tr>\n",
       "    <tr>\n",
       "      <th>1</th>\n",
       "      <td>Akiabara</td>\n",
       "      <td>https://akiabara.com/</td>\n",
       "    </tr>\n",
       "    <tr>\n",
       "      <th>2</th>\n",
       "      <td>Al Mundo</td>\n",
       "      <td>https://almundo.com.ar/</td>\n",
       "    </tr>\n",
       "    <tr>\n",
       "      <th>3</th>\n",
       "      <td>Alfabeta</td>\n",
       "      <td>https://www.alfabeta.net/home/</td>\n",
       "    </tr>\n",
       "    <tr>\n",
       "      <th>4</th>\n",
       "      <td>Almacen de Pizzas</td>\n",
       "      <td>https://go.waitry.net/order/2358/almacen-de-pi...</td>\n",
       "    </tr>\n",
       "    <tr>\n",
       "      <th>5</th>\n",
       "      <td>Aloise</td>\n",
       "      <td>https://catalogoaloise.com/</td>\n",
       "    </tr>\n",
       "    <tr>\n",
       "      <th>6</th>\n",
       "      <td>Amphora</td>\n",
       "      <td>https://www.amphora.com.ar/</td>\n",
       "    </tr>\n",
       "    <tr>\n",
       "      <th>7</th>\n",
       "      <td>Anavana</td>\n",
       "      <td>https://www.anavana.com.ar/</td>\n",
       "    </tr>\n",
       "    <tr>\n",
       "      <th>8</th>\n",
       "      <td>Anca &amp; Co</td>\n",
       "      <td>https://www.ancayco.com.ar/</td>\n",
       "    </tr>\n",
       "    <tr>\n",
       "      <th>9</th>\n",
       "      <td>Aquí y Ahora Stand</td>\n",
       "      <td>https://www.aquiyahora.com.ar/</td>\n",
       "    </tr>\n",
       "    <tr>\n",
       "      <th>10</th>\n",
       "      <td>Arredo</td>\n",
       "      <td>https://www.arredo.com.ar/</td>\n",
       "    </tr>\n",
       "    <tr>\n",
       "      <th>11</th>\n",
       "      <td>Artisan</td>\n",
       "      <td>https://artisanbuenosaires.com.ar/</td>\n",
       "    </tr>\n",
       "    <tr>\n",
       "      <th>12</th>\n",
       "      <td>Atomik</td>\n",
       "      <td>https://atomik.com.ar/</td>\n",
       "    </tr>\n",
       "    <tr>\n",
       "      <th>13</th>\n",
       "      <td>Atrápalo</td>\n",
       "      <td>https://www.atrapalo.com.ar/</td>\n",
       "    </tr>\n",
       "    <tr>\n",
       "      <th>14</th>\n",
       "      <td>Ay Not Dead</td>\n",
       "      <td>https://aynotdead.com/</td>\n",
       "    </tr>\n",
       "  </tbody>\n",
       "</table>\n",
       "</div>"
      ],
      "text/plain": [
       "                 Marca                                             Enlace\n",
       "0               Adidas                         https://www.adidas.com.ar/\n",
       "1             Akiabara                              https://akiabara.com/\n",
       "2             Al Mundo                            https://almundo.com.ar/\n",
       "3             Alfabeta                     https://www.alfabeta.net/home/\n",
       "4    Almacen de Pizzas  https://go.waitry.net/order/2358/almacen-de-pi...\n",
       "5               Aloise                        https://catalogoaloise.com/\n",
       "6              Amphora                        https://www.amphora.com.ar/\n",
       "7              Anavana                        https://www.anavana.com.ar/\n",
       "8            Anca & Co                        https://www.ancayco.com.ar/\n",
       "9   Aquí y Ahora Stand                     https://www.aquiyahora.com.ar/\n",
       "10              Arredo                         https://www.arredo.com.ar/\n",
       "11             Artisan                 https://artisanbuenosaires.com.ar/\n",
       "12              Atomik                             https://atomik.com.ar/\n",
       "13            Atrápalo                       https://www.atrapalo.com.ar/\n",
       "14         Ay Not Dead                             https://aynotdead.com/"
      ]
     },
     "execution_count": 35,
     "metadata": {},
     "output_type": "execute_result"
    }
   ],
   "source": [
    "df.rename(columns={\"Nombre\":\"Marca\"}, inplace=True)\n",
    "df"
   ]
  },
  {
   "cell_type": "code",
   "execution_count": 37,
   "id": "16f4b910",
   "metadata": {},
   "outputs": [
    {
     "data": {
      "text/html": [
       "<div>\n",
       "<style scoped>\n",
       "    .dataframe tbody tr th:only-of-type {\n",
       "        vertical-align: middle;\n",
       "    }\n",
       "\n",
       "    .dataframe tbody tr th {\n",
       "        vertical-align: top;\n",
       "    }\n",
       "\n",
       "    .dataframe thead th {\n",
       "        text-align: right;\n",
       "    }\n",
       "</style>\n",
       "<table border=\"1\" class=\"dataframe\">\n",
       "  <thead>\n",
       "    <tr style=\"text-align: right;\">\n",
       "      <th></th>\n",
       "      <th>Marca</th>\n",
       "      <th>Enlace</th>\n",
       "    </tr>\n",
       "  </thead>\n",
       "  <tbody>\n",
       "    <tr>\n",
       "      <th>2</th>\n",
       "      <td>Al Mundo</td>\n",
       "      <td>https://almundo.com.ar/</td>\n",
       "    </tr>\n",
       "    <tr>\n",
       "      <th>8</th>\n",
       "      <td>Anca &amp; Co</td>\n",
       "      <td>https://www.ancayco.com.ar/</td>\n",
       "    </tr>\n",
       "    <tr>\n",
       "      <th>10</th>\n",
       "      <td>Arredo</td>\n",
       "      <td>https://www.arredo.com.ar/</td>\n",
       "    </tr>\n",
       "    <tr>\n",
       "      <th>13</th>\n",
       "      <td>Atrápalo</td>\n",
       "      <td>https://www.atrapalo.com.ar/</td>\n",
       "    </tr>\n",
       "  </tbody>\n",
       "</table>\n",
       "</div>"
      ],
      "text/plain": [
       "        Marca                        Enlace\n",
       "2    Al Mundo       https://almundo.com.ar/\n",
       "8   Anca & Co   https://www.ancayco.com.ar/\n",
       "10     Arredo    https://www.arredo.com.ar/\n",
       "13   Atrápalo  https://www.atrapalo.com.ar/"
      ]
     },
     "execution_count": 37,
     "metadata": {},
     "output_type": "execute_result"
    }
   ],
   "source": [
    "## Elementos con letra O en Marca\n",
    "\n",
    "df_filtrado = df[df[\"Marca\"].str.endswith(\"o\")]\n",
    "df_filtrado"
   ]
  },
  {
   "cell_type": "code",
   "execution_count": 38,
   "id": "266192eb",
   "metadata": {},
   "outputs": [],
   "source": [
    "df_filtrado.to_excel(\"Scrapping01.xlsx\")"
   ]
  }
 ],
 "metadata": {
  "kernelspec": {
   "display_name": "Python 3",
   "language": "python",
   "name": "python3"
  },
  "language_info": {
   "codemirror_mode": {
    "name": "ipython",
    "version": 3
   },
   "file_extension": ".py",
   "mimetype": "text/x-python",
   "name": "python",
   "nbconvert_exporter": "python",
   "pygments_lexer": "ipython3",
   "version": "3.11.0"
  }
 },
 "nbformat": 4,
 "nbformat_minor": 5
}

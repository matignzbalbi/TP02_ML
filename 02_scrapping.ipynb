{
 "cells": [
  {
   "cell_type": "code",
   "execution_count": 26,
   "id": "0b89572b",
   "metadata": {},
   "outputs": [],
   "source": [
    "## Librerías\n",
    "\n",
    "from selenium import webdriver\n",
    "from selenium.webdriver.common.by import By\n",
    "import time"
   ]
  },
  {
   "cell_type": "code",
   "execution_count": 27,
   "id": "9095d51c",
   "metadata": {},
   "outputs": [],
   "source": [
    "url = \"https://jumafernandez.github.io/machine-learning-unlu/web-scraping/data/formulario.html\""
   ]
  },
  {
   "cell_type": "code",
   "execution_count": 28,
   "id": "4a5ac3e8",
   "metadata": {},
   "outputs": [],
   "source": [
    "driver = webdriver.Chrome()\n",
    "driver.get(url) # type: ignore\n",
    "time.sleep(5)"
   ]
  },
  {
   "cell_type": "code",
   "execution_count": 29,
   "id": "ad79ba31",
   "metadata": {},
   "outputs": [
    {
     "name": "stdout",
     "output_type": "stream",
     "text": [
      "h1\n",
      "Iniciar Sesión\n",
      "form\n",
      "Correo Electrónico:\n",
      "Contraseña:\n",
      "Ingresar\n",
      "label\n",
      "Correo Electrónico:\n",
      "input\n",
      "\n",
      "label\n",
      "Contraseña:\n",
      "input\n",
      "\n",
      "button\n",
      "Ingresar\n",
      "h2\n",
      "\n",
      "div\n",
      "\n"
     ]
    }
   ],
   "source": [
    "container = driver.find_element(By.CLASS_NAME, \"container\")\n",
    "elements = container.find_elements(By.XPATH, \".//*\")\n",
    "for element in elements:\n",
    "    print(element.tag_name) # Tipo\n",
    "    print(element.text) # Valor"
   ]
  },
  {
   "cell_type": "code",
   "execution_count": 1,
   "id": "dceb7d9e",
   "metadata": {},
   "outputs": [
    {
     "ename": "NameError",
     "evalue": "name 'driver' is not defined",
     "output_type": "error",
     "traceback": [
      "\u001b[1;31m---------------------------------------------------------------------------\u001b[0m",
      "\u001b[1;31mNameError\u001b[0m                                 Traceback (most recent call last)",
      "Cell \u001b[1;32mIn[1], line 3\u001b[0m\n\u001b[0;32m      1\u001b[0m \u001b[38;5;66;03m## Login\u001b[39;00m\n\u001b[1;32m----> 3\u001b[0m input_email \u001b[38;5;241m=\u001b[39m \u001b[43mdriver\u001b[49m\u001b[38;5;241m.\u001b[39mfind_element(By\u001b[38;5;241m.\u001b[39mID, \u001b[38;5;124m\"\u001b[39m\u001b[38;5;124memail\u001b[39m\u001b[38;5;124m\"\u001b[39m)\n\u001b[0;32m      4\u001b[0m input_password \u001b[38;5;241m=\u001b[39m driver\u001b[38;5;241m.\u001b[39mfind_element(By\u001b[38;5;241m.\u001b[39mID, \u001b[38;5;124m\"\u001b[39m\u001b[38;5;124mpasswd\u001b[39m\u001b[38;5;124m\"\u001b[39m)\n\u001b[0;32m      5\u001b[0m button \u001b[38;5;241m=\u001b[39m driver\u001b[38;5;241m.\u001b[39mfind_element(By\u001b[38;5;241m.\u001b[39mXPATH, \u001b[38;5;124m\"\u001b[39m\u001b[38;5;124m//button[text()=\u001b[39m\u001b[38;5;124m'\u001b[39m\u001b[38;5;124mIngresar\u001b[39m\u001b[38;5;124m'\u001b[39m\u001b[38;5;124m]\u001b[39m\u001b[38;5;124m\"\u001b[39m)\n",
      "\u001b[1;31mNameError\u001b[0m: name 'driver' is not defined"
     ]
    }
   ],
   "source": [
    "## Login\n",
    "\n",
    "input_email = driver.find_element(By.ID, \"email\")\n",
    "input_password = driver.find_element(By.ID, \"passwd\")\n",
    "button = driver.find_element(By.XPATH, \"//button[text()='Ingresar']\")\n",
    "\n",
    "input_email.send_keys(\"test@gmail.com\")\n",
    "input_password.send_keys(\"testpassword\")\n",
    "button.click()\n",
    "\n",
    "time.sleep(5)\n",
    "driver.quit()"
   ]
  }
 ],
 "metadata": {
  "kernelspec": {
   "display_name": "Python 3",
   "language": "python",
   "name": "python3"
  },
  "language_info": {
   "codemirror_mode": {
    "name": "ipython",
    "version": 3
   },
   "file_extension": ".py",
   "mimetype": "text/x-python",
   "name": "python",
   "nbconvert_exporter": "python",
   "pygments_lexer": "ipython3",
   "version": "3.11.0"
  }
 },
 "nbformat": 4,
 "nbformat_minor": 5
}
